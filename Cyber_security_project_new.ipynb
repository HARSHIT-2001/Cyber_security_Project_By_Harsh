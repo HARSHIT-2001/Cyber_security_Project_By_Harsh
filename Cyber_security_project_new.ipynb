{
  "nbformat": 4,
  "nbformat_minor": 0,
  "metadata": {
    "colab": {
      "name": "Cyber_security_project.ipynb",
      "provenance": [],
      "collapsed_sections": []
    },
    "kernelspec": {
      "name": "python3",
      "display_name": "Python 3"
    },
    "language_info": {
      "name": "python"
    }
  },
  "cells": [
    {
      "cell_type": "code",
      "metadata": {
        "colab": {
          "base_uri": "https://localhost:8080/"
        },
        "id": "20G1ROv3FeFX",
        "outputId": "f629abbb-a8b0-4dc3-8b6b-da44e7f0019b"
      },
      "source": [
        "print(\"Hello... Harshit This side...\")\n",
        "\n",
        "import requests\n",
        "\n",
        "from datetime import datetime\n",
        "\n",
        "api_key = 'f9f0f00517f927a9b7646d0d6c06d5c1'\n",
        "location = input(\"Enter the city name: \")\n",
        "\n"
      ],
      "execution_count": 15,
      "outputs": [
        {
          "output_type": "stream",
          "text": [
            "Enter the city name: Mumbai\n"
          ],
          "name": "stdout"
        }
      ]
    },
    {
      "cell_type": "code",
      "metadata": {
        "id": "JN6p_6PrJL77"
      },
      "source": [
        "complete_api_link = \"https://api.openweathermap.org/data/2.5/weather?q=\" + location + \"&appid=\" + api_key\n",
        "api_link = requests.get(complete_api_link)\n",
        "api_data = api_link.json()\n"
      ],
      "execution_count": 16,
      "outputs": []
    },
    {
      "cell_type": "code",
      "metadata": {
        "id": "A0TRkpyeJISA"
      },
      "source": [
        "#create variables to store and display data...\n",
        "temp_city = ((api_data['main']['temp']) - 273.15)\n",
        "weather_desc = api_data['weather'][0]['description']\n",
        "hmdt = api_data['main']['humidity']\n",
        "wind_spd = api_data['wind']['speed']\n",
        "date_time = datetime.now().strftime(\"%d %b %Y | %I:%M:%S %p\")\n"
      ],
      "execution_count": 17,
      "outputs": []
    },
    {
      "cell_type": "code",
      "metadata": {
        "id": "ehwSjtaNO2Ue"
      },
      "source": [
        "A = \"_____________________________________________________\"\n",
        "B = \"Weather Stats for - {} || {}\".format(location.upper(),date_time)\n",
        "C = \"_____________________________________________________\"\n",
        "D = \"Current temperature is : {:.2f} deg C\".format(temp_city)\n",
        "E = \"Current weather desc :\", weather_desc\n",
        "F = \"Current Humidity :\", hmdt, '%'\n",
        "G = \"Current wind speed :\", wind_spd , 'kmph'"
      ],
      "execution_count": 30,
      "outputs": []
    },
    {
      "cell_type": "code",
      "metadata": {
        "colab": {
          "base_uri": "https://localhost:8080/"
        },
        "id": "XcVDdsKmJFW4",
        "outputId": "2be33712-efe4-47a7-fe2f-c91153ed156d"
      },
      "source": [
        "print(A)\n",
        "print(B)\n",
        "print(C)\n",
        "\n",
        "print(D)\n",
        "print(E)\n",
        "print(F)\n",
        "print(G)"
      ],
      "execution_count": 31,
      "outputs": [
        {
          "output_type": "stream",
          "text": [
            "_____________________________________________________\n",
            "Weather Stats for - MUMBAI || 28 Jun 2021 | 03:15:12 PM\n",
            "_____________________________________________________\n",
            "Current temperature is : 28.99 deg C\n",
            "('Current weather desc :', 'haze')\n",
            "('Current Humidity :', 79, '%')\n",
            "('Current wind speed :', 1.54, 'kmph')\n"
          ],
          "name": "stdout"
        }
      ]
    },
    {
      "cell_type": "code",
      "metadata": {
        "id": "Fi5M4MZUNabf"
      },
      "source": [
        "with open('storage.txt','w') as f:\n",
        "  f.write(A)\n",
        "  f.write(\"\\n\")\n",
        "  f.write(B)\n",
        "  f.write(\"\\n\")\n",
        "  f.write(C)\n",
        "  f.write(\"\\n\")\n",
        "  f.write(D)\n",
        "  f.write('\\n')\n",
        "  f.write(\"Current weather desc :\")\n",
        "  f.write(weather_desc)\n",
        "  f.write(\"\\n\")\n",
        "  f.write(\"Current Humidity :\")\n",
        "  f.write(str(hmdt))\n",
        "  f.write('%')\n",
        "  f.write(\"\\n\")\n",
        "  f.write(\"Current wind speed :\")\n",
        "  f.write(str(wind_spd))\n",
        "  f.write('kmph')\n",
        "  f.write(\"\\n\")\n",
        "\n",
        "f.close()"
      ],
      "execution_count": 38,
      "outputs": []
    }
  ]
}