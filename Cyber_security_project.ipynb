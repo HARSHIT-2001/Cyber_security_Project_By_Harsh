{
  "nbformat": 4,
  "nbformat_minor": 0,
  "metadata": {
    "colab": {
      "name": "Cyber_security_project.ipynb",
      "provenance": []
    },
    "kernelspec": {
      "name": "python3",
      "display_name": "Python 3"
    },
    "language_info": {
      "name": "python"
    }
  },
  "cells": [
    {
      "cell_type": "code",
      "metadata": {
        "colab": {
          "base_uri": "https://localhost:8080/"
        },
        "id": "20G1ROv3FeFX",
        "outputId": "f629abbb-a8b0-4dc3-8b6b-da44e7f0019b"
      },
      "source": [
        "print(\"Hello... Harshit This side...\")\n",
        "\n",
        "import requests\n",
        "\n",
        "from datetime import datetime\n",
        "\n",
        "api_key = 'f9f0f00517f927a9b7646d0d6c06d5c1'\n",
        "location = input(\"Enter the city name: \")\n",
        "\n"
      ],
      "execution_count": 15,
      "outputs": [
        {
          "output_type": "stream",
          "text": [
            "Enter the city name: Mumbai\n"
          ],
          "name": "stdout"
        }
      ]
    },
    {
      "cell_type": "code",
      "metadata": {
        "id": "JN6p_6PrJL77"
      },
      "source": [
        "complete_api_link = \"https://api.openweathermap.org/data/2.5/weather?q=\" + location + \"&appid=\" + api_key\n",
        "api_link = requests.get(complete_api_link)\n",
        "api_data = api_link.json()\n"
      ],
      "execution_count": 16,
      "outputs": []
    },
    {
      "cell_type": "code",
      "metadata": {
        "id": "A0TRkpyeJISA"
      },
      "source": [
        "#create variables to store and display data...\n",
        "temp_city = ((api_data['main']['temp']) - 273.15)\n",
        "weather_desc = api_data['weather'][0]['description']\n",
        "hmdt = api_data['main']['humidity']\n",
        "wind_spd = api_data['wind']['speed']\n",
        "date_time = datetime.now().strftime(\"%d %b %Y | %I:%M:%S %p\")\n"
      ],
      "execution_count": 17,
      "outputs": []
    },
    {
      "cell_type": "code",
      "metadata": {
        "colab": {
          "base_uri": "https://localhost:8080/"
        },
        "id": "XcVDdsKmJFW4",
        "outputId": "378cd3f6-fe3c-4efe-8614-2dfcb53d0193"
      },
      "source": [
        "print(\"_____________________________________________________\")\n",
        "print(\"Weather Stats for - {} || {}\".format(location.upper(), date_time))\n",
        "print(\"_____________________________________________________\")\n",
        "\n",
        "print(\"Current temperature is : {:.2f} deg C\".format(temp_city))\n",
        "print(\"Current weather desc :\", weather_desc)\n",
        "print(\"Current Humidity :\", hmdt, '%')\n",
        "print(\"Current wind speed :\", wind_spd , 'kmph')"
      ],
      "execution_count": 22,
      "outputs": [
        {
          "output_type": "stream",
          "text": [
            "_____________________________________________________\n",
            "Weather Stats for - MUMBAI || 28 Jun 2021 | 03:15:12 PM\n",
            "_____________________________________________________\n",
            "Current temperature is : 28.99 deg C\n",
            "Current weather desc : haze\n",
            "Current Humidity : 79 %\n",
            "Current wind speed : 1.54 kmph\n"
          ],
          "name": "stdout"
        }
      ]
    }
  ]
}